{
 "cells": [
  {
   "cell_type": "code",
   "execution_count": 44,
   "id": "603027b2-b3ac-41cd-90f7-30928607752b",
   "metadata": {},
   "outputs": [
    {
     "data": {
      "text/plain": [
       "' Peform Following task using PYTHON Script. If any problem communicate with other student using discussion board of \"Week 6 Assignment\".\\n\\n1. Create a result table which contain student id, student name and 5 subject marks. \\n\\n2. Enter 10 studnet details with its marks.\\n\\n3. Dump table into csv file \"result.csv\".\\n\\n4. Read result.csv file and Print Total Marks and Grade of each student. Also Append Total Marks and Grade column into result.csv file.\\n\\n5. List out Top 3 Student id and name with its percentage.'"
      ]
     },
     "execution_count": 44,
     "metadata": {},
     "output_type": "execute_result"
    }
   ],
   "source": [
    "''' Peform Following task using PYTHON Script. If any problem communicate with other student using discussion board of \"Week 6 Assignment\".\n",
    "\n",
    "1. Create a result table which contain student id, student name and 5 subject marks. \n",
    "\n",
    "2. Enter 10 studnet details with its marks.\n",
    "\n",
    "3. Dump table into csv file \"result.csv\".\n",
    "\n",
    "4. Read result.csv file and Print Total Marks and Grade of each student. Also Append Total Marks and Grade column into result.csv file.\n",
    "\n",
    "5. List out Top 3 Student id and name with its percentage.'''"
   ]
  },
  {
   "cell_type": "markdown",
   "id": "72874404-9a4c-4c8a-b4eb-78320d0fd8ae",
   "metadata": {},
   "source": [
    "### creating table"
   ]
  },
  {
   "cell_type": "code",
   "execution_count": 45,
   "id": "6d4b3ebf-6093-4d8c-a9b5-704b54fc1329",
   "metadata": {},
   "outputs": [],
   "source": [
    "import sqlite3 as sq\n",
    "import csv"
   ]
  },
  {
   "cell_type": "code",
   "execution_count": 46,
   "id": "7d6501f9-b4d8-4282-8a61-93c0870183cc",
   "metadata": {},
   "outputs": [],
   "source": [
    "conn=sq.connect(\"c://sqlite3//student.db\")"
   ]
  },
  {
   "cell_type": "code",
   "execution_count": 47,
   "id": "c0f21f50-b229-42e2-8486-a960affadb53",
   "metadata": {},
   "outputs": [],
   "source": [
    "cur=conn.cursor()"
   ]
  },
  {
   "cell_type": "code",
   "execution_count": 48,
   "id": "6c0419d3-a28a-49ae-b012-5f834d655933",
   "metadata": {},
   "outputs": [
    {
     "data": {
      "text/plain": [
       "<sqlite3.Cursor at 0x17b44791840>"
      ]
     },
     "execution_count": 48,
     "metadata": {},
     "output_type": "execute_result"
    }
   ],
   "source": [
    "cur.execute(\" \" \"create table if not exists result(sid int primary key,sname text, sub_1 int,sub_2 int,sub_3 int,sub_4 int,sub_5 int)\"\"\")"
   ]
  },
  {
   "cell_type": "markdown",
   "id": "49007f61-81ee-4ab5-9ba3-88260eb6bcc9",
   "metadata": {},
   "source": [
    "### inserting record"
   ]
  },
  {
   "cell_type": "code",
   "execution_count": 49,
   "id": "e8b4152c-4422-4fc3-a90b-0c7b1e04ac67",
   "metadata": {},
   "outputs": [
    {
     "data": {
      "text/plain": [
       "'put=\"insert into result values(?,?,?,?,?,?,?)\"\\nrecord=[]\\nfor i in range(2):\\n    no=int(input(\"Enter student id:\"))\\n    sn=input(\"Enter student name:\")\\n    sub1=int(input(\"Enter subject 1 marks:\"))\\n    sub2=int(input(\"Enter subject 2 marks:\"))\\n    sub3=int(input(\"Enter subject 3 marks:\"))\\n    sub4=int(input(\"Enter subject 4 marks:\"))\\n    sub5=int(input(\"Enter subject 5 marks:\"))\\n    li=[no,sn,sub1,sub2,sub3,sub4,sub5]\\n    record.append(li)\\n    cur.executemany(put,record)'"
      ]
     },
     "execution_count": 49,
     "metadata": {},
     "output_type": "execute_result"
    }
   ],
   "source": [
    "'''put=\"insert into result values(?,?,?,?,?,?,?)\"\n",
    "record=[]\n",
    "for i in range(2):\n",
    "    no=int(input(\"Enter student id:\"))\n",
    "    sn=input(\"Enter student name:\")\n",
    "    sub1=int(input(\"Enter subject 1 marks:\"))\n",
    "    sub2=int(input(\"Enter subject 2 marks:\"))\n",
    "    sub3=int(input(\"Enter subject 3 marks:\"))\n",
    "    sub4=int(input(\"Enter subject 4 marks:\"))\n",
    "    sub5=int(input(\"Enter subject 5 marks:\"))\n",
    "    li=[no,sn,sub1,sub2,sub3,sub4,sub5]\n",
    "    record.append(li)\n",
    "    cur.executemany(put,record)'''"
   ]
  },
  {
   "cell_type": "markdown",
   "id": "d89e6310-facb-4028-882c-8a54dacc4cb1",
   "metadata": {},
   "source": [
    "### Dump table into csv file"
   ]
  },
  {
   "cell_type": "code",
   "execution_count": 53,
   "id": "dc3b55a6-f35b-4367-9a85-7f8b8a6ed479",
   "metadata": {},
   "outputs": [],
   "source": [
    "cur.execute('select * from result;')\n",
    "r=cur.fetchall()\n",
    "conn.commit()\n",
    "h=['sid','sname','sub_1','sub_2','sub_3','sub_4','sub_5']\n",
    "with open(\"c:\\\\sqlite3\\\\csv\\\\result.csv\",\"w\",newline='') as csvfile:\n",
    "    writer=csv.writer(csvfile)\n",
    "    writer.writerow(h)\n",
    "    writer.writerows(r)"
   ]
  },
  {
   "cell_type": "markdown",
   "id": "2d939807-3fe2-490b-b651-07e4682aa58d",
   "metadata": {},
   "source": [
    "### add total mark percentage and grade"
   ]
  },
  {
   "cell_type": "code",
   "execution_count": 54,
   "id": "362ece82-3605-4795-8f99-2f40355ae80e",
   "metadata": {},
   "outputs": [
    {
     "name": "stdout",
     "output_type": "stream",
     "text": [
      "Record: 1\n",
      "id: 1\n",
      "name: margi\n",
      "sub_1: 90\n",
      "sub_2: 98\n",
      "sub_3: 89\n",
      "sub_4: 75\n",
      "sub_5: 96\n",
      "Total marks: 448\n",
      "percentage: 89.6\n",
      "grade: Distinction\n",
      "Record: 2\n",
      "id: 2\n",
      "name: kunj\n",
      "sub_1: 86\n",
      "sub_2: 89\n",
      "sub_3: 95\n",
      "sub_4: 85\n",
      "sub_5: 86\n",
      "Total marks: 441\n",
      "percentage: 88.2\n",
      "grade: Distinction\n",
      "Record: 3\n",
      "id: 3\n",
      "name: dev\n",
      "sub_1: 89\n",
      "sub_2: 82\n",
      "sub_3: 85\n",
      "sub_4: 75\n",
      "sub_5: 95\n",
      "Total marks: 426\n",
      "percentage: 85.2\n",
      "grade: Distinction\n",
      "Record: 4\n",
      "id: 4\n",
      "name: vibhuti\n",
      "sub_1: 89\n",
      "sub_2: 85\n",
      "sub_3: 73\n",
      "sub_4: 84\n",
      "sub_5: 81\n",
      "Total marks: 412\n",
      "percentage: 82.4\n",
      "grade: Distinction\n",
      "Record: 5\n",
      "id: 101\n",
      "name: om\n",
      "sub_1: 90\n",
      "sub_2: 89\n",
      "sub_3: 92\n",
      "sub_4: 85\n",
      "sub_5: 87\n",
      "Total marks: 443\n",
      "percentage: 88.6\n",
      "grade: Distinction\n"
     ]
    }
   ],
   "source": [
    "i=0\n",
    "add=[]\n",
    "with open(\"c:\\\\sqlite3\\\\csv\\\\result.csv\",\"r\") as csvfile:\n",
    "    reader = csv.reader(csvfile)\n",
    "    header=next(reader)\n",
    "    for row in reader:\n",
    "        i=i+1\n",
    "        print(\"Record:\",i)\n",
    "        print(\"id:\",row[0])\n",
    "        print(\"name:\",row[1])\n",
    "        print(\"sub_1:\",row[2])\n",
    "        print(\"sub_2:\",row[3])\n",
    "        print(\"sub_3:\",row[4])\n",
    "        print(\"sub_4:\",row[5])\n",
    "        print(\"sub_5:\",row[6])\n",
    "        row.append(int(row[2])+int(row[3])+int(row[4])+int(row[5])+int(row[6]))\n",
    "        row.append(row[7]/5)\n",
    "        print(\"Total marks:\",row[7])\n",
    "        print(\"percentage:\",row[8])\n",
    "        if row[8]>80:\n",
    "                row.append('Distinction')\n",
    "        elif row[8]>65 and records[8]<=80:\n",
    "                row.append('First Class')\n",
    "        elif row[8]>50 and records[8]<=65:\n",
    "                row.append('Second Class')\n",
    "        elif row[8]>35 and records[8]<=50:\n",
    "                row.append('Pass')\n",
    "        else:\n",
    "                row.append('Fail')\n",
    "        print(\"grade:\",row[9])\n",
    "        add.append(row)\n",
    "with open(\"c:\\\\sqlite3\\\\csv\\\\result.csv\",\"w\") as f1:\n",
    "    write=csv.writer(f1)\n",
    "    h.extend(('total','percentage','grade'))\n",
    "    write.writerow(h)\n",
    "    write.writerows(add)\n",
    "        \n"
   ]
  },
  {
   "cell_type": "markdown",
   "id": "0f2503ba-54ac-4cb8-b9cf-ec22cb18af2e",
   "metadata": {},
   "source": [
    "### printing top 3 records"
   ]
  },
  {
   "cell_type": "code",
   "execution_count": 55,
   "id": "c095f528-b34e-4de7-ba3f-10d83bf5d57e",
   "metadata": {},
   "outputs": [
    {
     "ename": "IndexError",
     "evalue": "list index out of range",
     "output_type": "error",
     "traceback": [
      "\u001b[1;31m---------------------------------------------------------------------------\u001b[0m",
      "\u001b[1;31mIndexError\u001b[0m                                Traceback (most recent call last)",
      "Cell \u001b[1;32mIn[55], line 7\u001b[0m\n\u001b[0;32m      5\u001b[0m L\u001b[38;5;241m=\u001b[39m[]\n\u001b[0;32m      6\u001b[0m \u001b[38;5;28;01mfor\u001b[39;00m row \u001b[38;5;129;01min\u001b[39;00m read:\n\u001b[1;32m----> 7\u001b[0m     L\u001b[38;5;241m.\u001b[39mappend(\u001b[43mrow\u001b[49m\u001b[43m[\u001b[49m\u001b[38;5;241;43m8\u001b[39;49m\u001b[43m]\u001b[49m)  \n\u001b[0;32m      8\u001b[0m L\u001b[38;5;241m.\u001b[39mpop(\u001b[38;5;241m0\u001b[39m)\n\u001b[0;32m      9\u001b[0m L\u001b[38;5;241m.\u001b[39msort(reverse\u001b[38;5;241m=\u001b[39m\u001b[38;5;28;01mTrue\u001b[39;00m)     \n",
      "\u001b[1;31mIndexError\u001b[0m: list index out of range"
     ]
    }
   ],
   "source": [
    "with open(\"c:\\\\sqlite3\\\\csv\\\\result.csv\",\"r\") as csvfile:\n",
    "        read_obj=csv.reader(csvfile)\n",
    "        read=list(read_obj)\n",
    "        i=0\n",
    "        L=[]\n",
    "        for row in read:\n",
    "            L.append(row[8])  \n",
    "        L.pop(0)\n",
    "        L.sort(reverse=True)     \n",
    "        for per in L[:3]:        \n",
    "            for list in read :\n",
    "                if per in list:       \n",
    "                    i=i+1\n",
    "                    print(\"Top:\",i)\n",
    "                    print(\"ID:\",list[0])\n",
    "                    print(\"Name:\",list[1])\n",
    "                    print(\"Total:\",list[7])\n",
    "                    print(\"Percentage:\",list[8])\n"
   ]
  },
  {
   "cell_type": "code",
   "execution_count": null,
   "id": "865b18bb-6a37-438c-a326-b49884238123",
   "metadata": {},
   "outputs": [],
   "source": []
  },
  {
   "cell_type": "code",
   "execution_count": null,
   "id": "361ade2a-2448-48f0-85a5-d25b558aa818",
   "metadata": {},
   "outputs": [],
   "source": []
  },
  {
   "cell_type": "code",
   "execution_count": null,
   "id": "248a05b3-eff5-4abf-8e4c-79178defa7c9",
   "metadata": {},
   "outputs": [],
   "source": []
  }
 ],
 "metadata": {
  "kernelspec": {
   "display_name": "Python 3 (ipykernel)",
   "language": "python",
   "name": "python3"
  },
  "language_info": {
   "codemirror_mode": {
    "name": "ipython",
    "version": 3
   },
   "file_extension": ".py",
   "mimetype": "text/x-python",
   "name": "python",
   "nbconvert_exporter": "python",
   "pygments_lexer": "ipython3",
   "version": "3.11.5"
  }
 },
 "nbformat": 4,
 "nbformat_minor": 5
}
